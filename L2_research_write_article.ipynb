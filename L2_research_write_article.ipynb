{
 "cells": [
  {
   "cell_type": "markdown",
   "metadata": {},
   "source": [
    "You can download the `requirements.txt` for this course from the workspace of this lab. `File --> Open...`"
   ]
  },
  {
   "cell_type": "markdown",
   "metadata": {},
   "source": [
    "# L2: Create Agents to Research and Write an Article\n",
    "\n",
    "In this lesson, you will be introduced to the foundational concepts of multi-agent systems and get an overview of the crewAI framework."
   ]
  },
  {
   "cell_type": "markdown",
   "metadata": {},
   "source": [
    "The libraries are already installed in the classroom. If you're running this notebook on your own machine, you can install the following:\n",
    "```Python\n",
    "!pip install crewai==0.28.8 crewai_tools==0.1.6 langchain_community==0.0.29\n",
    "```"
   ]
  },
  {
   "cell_type": "code",
   "execution_count": 1,
   "metadata": {
    "height": 174
   },
   "outputs": [
    {
     "name": "stdout",
     "output_type": "stream",
     "text": [
      "Hello world\n",
      "Python version: 3.11.9 (main, Apr 19 2024, 16:48:06) [GCC 11.2.0]\n"
     ]
    }
   ],
   "source": [
    "import sys\n",
    "\n",
    "print(\"Hello world\")\n",
    "\n",
    "print(f\"Python version: {sys.version}\")\n",
    "\n"
   ]
  },
  {
   "cell_type": "code",
   "execution_count": null,
   "metadata": {
    "height": 31
   },
   "outputs": [],
   "source": []
  },
  {
   "cell_type": "code",
   "execution_count": 2,
   "metadata": {
    "height": 64
   },
   "outputs": [],
   "source": [
    "# Warning control\n",
    "import warnings\n",
    "warnings.filterwarnings('ignore')"
   ]
  },
  {
   "cell_type": "markdown",
   "metadata": {},
   "source": [
    "- Import from the crewAI libray."
   ]
  },
  {
   "cell_type": "code",
   "execution_count": 3,
   "metadata": {
    "height": 30
   },
   "outputs": [],
   "source": [
    "from crewai import Agent, Task, Crew"
   ]
  },
  {
   "cell_type": "markdown",
   "metadata": {},
   "source": [
    "- As a LLM for your agents, you'll be using OpenAI's `gpt-3.5-turbo`.\n",
    "\n",
    "**Optional Note:** crewAI also allow other popular models to be used as a LLM for your Agents. You can see some of the examples at the [bottom of the notebook](#1)."
   ]
  },
  {
   "cell_type": "code",
   "execution_count": 4,
   "metadata": {
    "height": 113
   },
   "outputs": [],
   "source": [
    "import os\n",
    "from utils import get_openai_api_key\n",
    "\n",
    "openai_api_key = get_openai_api_key()\n",
    "os.environ[\"OPENAI_MODEL_NAME\"] = 'gpt-3.5-turbo'"
   ]
  },
  {
   "cell_type": "markdown",
   "metadata": {},
   "source": [
    "## Creating Agents\n",
    "\n",
    "- Define your Agents, and provide them a `role`, `goal` and `backstory`.\n",
    "- It has been seen that LLMs perform better when they are role playing."
   ]
  },
  {
   "cell_type": "markdown",
   "metadata": {},
   "source": [
    "### Agent: Planner\n",
    "\n",
    "**Note**: The benefit of using _multiple strings_ :\n",
    "```Python\n",
    "varname = \"line 1 of text\"\n",
    "          \"line 2 of text\"\n",
    "```\n",
    "\n",
    "versus the _triple quote docstring_:\n",
    "```Python\n",
    "varname = \"\"\"line 1 of text\n",
    "             line 2 of text\n",
    "          \"\"\"\n",
    "```\n",
    "is that it can avoid adding those whitespaces and newline characters, making it better formatted to be passed to the LLM."
   ]
  },
  {
   "cell_type": "code",
   "execution_count": 5,
   "metadata": {
    "height": 249
   },
   "outputs": [],
   "source": [
    "planner = Agent(\n",
    "    role=\"Content Planner\",\n",
    "    goal=\"Plan engaging and factually accurate content on {topic}\",\n",
    "    backstory=\"You're working on planning a blog article \"\n",
    "              \"about the topic: {topic}.\"\n",
    "              \"You collect information that helps the \"\n",
    "              \"audience learn something \"\n",
    "              \"and make informed decisions. \"\n",
    "              \"Your work is the basis for \"\n",
    "              \"the Content Writer to write an article on this topic.\",\n",
    "    allow_delegation=False,\n",
    "\tverbose=True\n",
    ")"
   ]
  },
  {
   "cell_type": "markdown",
   "metadata": {},
   "source": [
    "### Agent: Writer"
   ]
  },
  {
   "cell_type": "code",
   "execution_count": 6,
   "metadata": {
    "height": 385
   },
   "outputs": [],
   "source": [
    "writer = Agent(\n",
    "    role=\"Content Writer\",\n",
    "    goal=\"Write insightful and factually accurate \"\n",
    "         \"opinion piece about the topic: {topic}\",\n",
    "    backstory=\"You're working on a writing \"\n",
    "              \"a new opinion piece about the topic: {topic}. \"\n",
    "              \"You base your writing on the work of \"\n",
    "              \"the Content Planner, who provides an outline \"\n",
    "              \"and relevant context about the topic. \"\n",
    "              \"You follow the main objectives and \"\n",
    "              \"direction of the outline, \"\n",
    "              \"as provide by the Content Planner. \"\n",
    "              \"You also provide objective and impartial insights \"\n",
    "              \"and back them up with information \"\n",
    "              \"provide by the Content Planner. \"\n",
    "              \"You acknowledge in your opinion piece \"\n",
    "              \"when your statements are opinions \"\n",
    "              \"as opposed to objective statements.\",\n",
    "    allow_delegation=False,\n",
    "    verbose=True\n",
    ")"
   ]
  },
  {
   "cell_type": "markdown",
   "metadata": {},
   "source": [
    "### Agent: Editor"
   ]
  },
  {
   "cell_type": "code",
   "execution_count": 7,
   "metadata": {
    "height": 283
   },
   "outputs": [],
   "source": [
    "editor = Agent(\n",
    "    role=\"Editor\",\n",
    "    goal=\"Edit a given blog post to align with \"\n",
    "         \"the writing style of the organization. \",\n",
    "    backstory=\"You are an editor who receives a blog post \"\n",
    "              \"from the Content Writer. \"\n",
    "              \"Your goal is to review the blog post \"\n",
    "              \"to ensure that it follows journalistic best practices,\"\n",
    "              \"provides balanced viewpoints \"\n",
    "              \"when providing opinions or assertions, \"\n",
    "              \"and also avoids major controversial topics \"\n",
    "              \"or opinions when possible.\",\n",
    "    allow_delegation=False,\n",
    "    verbose=True\n",
    ")"
   ]
  },
  {
   "cell_type": "markdown",
   "metadata": {},
   "source": [
    "## Creating Tasks\n",
    "\n",
    "- Define your Tasks, and provide them a `description`, `expected_output` and `agent`."
   ]
  },
  {
   "cell_type": "markdown",
   "metadata": {},
   "source": [
    "### Task: Plan"
   ]
  },
  {
   "cell_type": "code",
   "execution_count": 8,
   "metadata": {
    "height": 283
   },
   "outputs": [],
   "source": [
    "plan = Task(\n",
    "    description=(\n",
    "        \"1. Prioritize the latest trends, key players, \"\n",
    "            \"and noteworthy news on {topic}.\\n\"\n",
    "        \"2. Identify the target audience, considering \"\n",
    "            \"their interests and pain points.\\n\"\n",
    "        \"3. Develop a detailed content outline including \"\n",
    "            \"an introduction, key points, and a call to action.\\n\"\n",
    "        \"4. Include SEO keywords and relevant data or sources.\"\n",
    "    ),\n",
    "    expected_output=\"A comprehensive content plan document \"\n",
    "        \"with an outline, audience analysis, \"\n",
    "        \"SEO keywords, and resources.\",\n",
    "    agent=planner,\n",
    ")"
   ]
  },
  {
   "cell_type": "markdown",
   "metadata": {},
   "source": [
    "### Task: Write"
   ]
  },
  {
   "cell_type": "code",
   "execution_count": 9,
   "metadata": {
    "height": 334
   },
   "outputs": [],
   "source": [
    "write = Task(\n",
    "    description=(\n",
    "        \"1. Use the content plan to craft a compelling \"\n",
    "            \"blog post on {topic}.\\n\"\n",
    "        \"2. Incorporate SEO keywords naturally.\\n\"\n",
    "\t\t\"3. Sections/Subtitles are properly named \"\n",
    "            \"in an engaging manner.\\n\"\n",
    "        \"4. Ensure the post is structured with an \"\n",
    "            \"engaging introduction, insightful body, \"\n",
    "            \"and a summarizing conclusion.\\n\"\n",
    "        \"5. Proofread for grammatical errors and \"\n",
    "            \"alignment with the brand's voice.\\n\"\n",
    "    ),\n",
    "    expected_output=\"A well-written blog post \"\n",
    "        \"in markdown format, ready for publication, \"\n",
    "        \"each section should have 2 or 3 paragraphs.\",\n",
    "    agent=writer,\n",
    ")"
   ]
  },
  {
   "cell_type": "markdown",
   "metadata": {},
   "source": [
    "### Task: Edit"
   ]
  },
  {
   "cell_type": "code",
   "execution_count": 10,
   "metadata": {
    "height": 181
   },
   "outputs": [],
   "source": [
    "edit = Task(\n",
    "    description=(\"Proofread the given blog post for \"\n",
    "                 \"grammatical errors and \"\n",
    "                 \"alignment with the brand's voice.\"),\n",
    "    expected_output=\"A well-written blog post in markdown format, \"\n",
    "                    \"ready for publication, \"\n",
    "                    \"each section should have 2 or 3 paragraphs.\",\n",
    "    agent=editor\n",
    ")"
   ]
  },
  {
   "cell_type": "markdown",
   "metadata": {},
   "source": [
    "## Creating the Crew\n",
    "\n",
    "- Create your crew of Agents\n",
    "- Pass the tasks to be performed by those agents.\n",
    "    - **Note**: *For this simple example*, the tasks will be performed sequentially (i.e they are dependent on each other), so the _order_ of the task in the list _matters_.\n",
    "- `verbose=2` allows you to see all the logs of the execution. "
   ]
  },
  {
   "cell_type": "code",
   "execution_count": 12,
   "metadata": {
    "height": 98
   },
   "outputs": [],
   "source": [
    "crew = Crew(\n",
    "    agents=[planner, writer, editor],\n",
    "    tasks=[plan, write, edit],\n",
    "    verbose=True\n",
    ")"
   ]
  },
  {
   "cell_type": "markdown",
   "metadata": {},
   "source": [
    "## Running the Crew"
   ]
  },
  {
   "cell_type": "markdown",
   "metadata": {},
   "source": [
    "**Note**: LLMs can provide different outputs for they same input, so what you get might be different than what you see in the video."
   ]
  },
  {
   "cell_type": "code",
   "execution_count": 13,
   "metadata": {
    "height": 45
   },
   "outputs": [
    {
     "name": "stdout",
     "output_type": "stream",
     "text": [
      "\u001b[1m\u001b[95m# Agent:\u001b[00m \u001b[1m\u001b[92mContent Planner\u001b[00m\n",
      "\u001b[95m## Task:\u001b[00m \u001b[92m1. Prioritize the latest trends, key players, and noteworthy news on CrewAI pricing models.\n",
      "2. Identify the target audience, considering their interests and pain points.\n",
      "3. Develop a detailed content outline including an introduction, key points, and a call to action.\n",
      "4. Include SEO keywords and relevant data or sources.\u001b[00m\n",
      "\n",
      "\n",
      "\u001b[1m\u001b[95m# Agent:\u001b[00m \u001b[1m\u001b[92mContent Planner\u001b[00m\n",
      "\u001b[95m## Final Answer:\u001b[00m \u001b[92m\n",
      "Content Plan\n",
      "\n",
      "Title: Navigating CrewAI Pricing Models: Everything You Need to Know\n",
      "\n",
      "Introduction:\n",
      "- Briefly introduce CrewAI and its significance in the AI industry.\n",
      "- Mention the focus of the article on exploring the various pricing models offered by CrewAI.\n",
      "\n",
      "Key Points:\n",
      "I. Trending Pricing Models in CrewAI\n",
      "   A. Pay-As-You-Go Model\n",
      "      1. Description and benefits\n",
      "      2. Pricing structure and flexibility\n",
      "   B. Subscription Model\n",
      "      1. Overview and advantages\n",
      "      2. Different tiers and features\n",
      "   C. Enterprise/Custom Pricing\n",
      "      1. Tailored solutions for large businesses\n",
      "      2. Factors influencing custom pricing\n",
      "\n",
      "II. Key Players in the CrewAI Pricing Landscape\n",
      "   A. Comparison with other AI platforms\n",
      "   B. Competitive pricing analysis\n",
      "   C. Customer reviews and satisfaction levels\n",
      "\n",
      "III. Noteworthy News and Updates\n",
      "   A. Recent changes in CrewAI pricing strategies\n",
      "   B. Customer feedback and impact on pricing decisions\n",
      "   C. Future pricing model predictions\n",
      "\n",
      "Audience Analysis:\n",
      "- Target Audience: AI enthusiasts, business owners, marketers, and professionals interested in AI solutions.\n",
      "- Interests: Pricing transparency, cost-effective AI tools, budget management in AI projects.\n",
      "- Pain Points: Understanding complex pricing structures, finding the right pricing model for their needs, cost-benefit analysis.\n",
      "\n",
      "SEO Keywords:\n",
      "- CrewAI pricing models\n",
      "- AI pricing trends\n",
      "- AI pricing strategies\n",
      "- CrewAI pricing comparison\n",
      "- Pay-As-You-Go vs. Subscription model\n",
      "- Custom pricing for AI solutions\n",
      "\n",
      "Resources:\n",
      "1. CrewAI official website and pricing page\n",
      "2. Industry reports on AI pricing models\n",
      "3. Customer case studies and testimonials\n",
      "4. Interviews with AI pricing experts\n",
      "5. Market research data on AI pricing trends\n",
      "\n",
      "Call to Action:\n",
      "- Encourage readers to explore CrewAI's website for detailed pricing information.\n",
      "- Invite them to share their experiences with different AI pricing models in the comments section.\n",
      "- Offer a downloadable guide on choosing the right AI pricing model for their business needs.\n",
      "\n",
      "By following this detailed content plan, the article will provide valuable insights into CrewAI pricing models, cater to the target audience's interests and pain points, optimize for relevant SEO keywords, and utilize credible resources for accurate and engaging content.\u001b[00m\n",
      "\n",
      "\n",
      "\u001b[1m\u001b[95m# Agent:\u001b[00m \u001b[1m\u001b[92mContent Writer\u001b[00m\n",
      "\u001b[95m## Task:\u001b[00m \u001b[92m1. Use the content plan to craft a compelling blog post on CrewAI pricing models.\n",
      "2. Incorporate SEO keywords naturally.\n",
      "3. Sections/Subtitles are properly named in an engaging manner.\n",
      "4. Ensure the post is structured with an engaging introduction, insightful body, and a summarizing conclusion.\n",
      "5. Proofread for grammatical errors and alignment with the brand's voice.\n",
      "\u001b[00m\n",
      "\n",
      "\n",
      "\u001b[1m\u001b[95m# Agent:\u001b[00m \u001b[1m\u001b[92mContent Writer\u001b[00m\n",
      "\u001b[95m## Final Answer:\u001b[00m \u001b[92m\n",
      "# Navigating CrewAI Pricing Models: Everything You Need to Know\n",
      "\n",
      "## Introduction\n",
      "\n",
      "In the fast-evolving landscape of artificial intelligence (AI) solutions, CrewAI stands out as a prominent player, offering cutting-edge technologies to businesses across various industries. Understanding the pricing models of such platforms is crucial for AI enthusiasts, business owners, and professionals looking to leverage AI tools effectively. This article delves into the intricate world of CrewAI pricing models, shedding light on the different options available to cater to the diverse needs of users.\n",
      "\n",
      "## Trending Pricing Models in CrewAI\n",
      "\n",
      "### Pay-As-You-Go Model\n",
      "The Pay-As-You-Go model offered by CrewAI provides a flexible approach for users to access AI services based on their usage. This model is particularly beneficial for businesses with fluctuating AI requirements, as they only pay for the services utilized. With transparent pricing structures and no long-term commitments, the Pay-As-You-Go model ensures cost-effectiveness and scalability for users.\n",
      "\n",
      "### Subscription Model\n",
      "CrewAI's Subscription Model offers users a more predictable cost structure by providing various tiers with different features and pricing. This model is ideal for businesses looking for consistency in their AI expenses and access to a wider range of advanced functionalities. By choosing a subscription plan that aligns with their needs, users can efficiently manage their AI budgets while leveraging the full potential of CrewAI's capabilities.\n",
      "\n",
      "### Enterprise/Custom Pricing\n",
      "For larger businesses with specific AI requirements, CrewAI offers Enterprise and Custom pricing options tailored to their unique needs. These solutions are designed to accommodate complex projects and extensive usage scenarios, providing personalized support and features that cater to enterprise-level demands. Factors influencing custom pricing may include the scale of deployment, additional services required, and ongoing support provisions.\n",
      "\n",
      "## Key Players in the CrewAI Pricing Landscape\n",
      "\n",
      "In comparison to other AI platforms, CrewAI stands out for its competitive pricing strategies and transparent pricing structures. By conducting a thorough competitive pricing analysis, businesses can evaluate the cost-effectiveness of CrewAI's offerings and understand the value proposition in the market. Moreover, customer reviews and satisfaction levels play a vital role in gauging the overall perception of CrewAI pricing models and the experiences of users across different industries.\n",
      "\n",
      "## Noteworthy News and Updates\n",
      "\n",
      "Stay informed about the recent changes in CrewAI's pricing strategies, customer feedback influencing pricing decisions, and predictions for future pricing models. By staying ahead of the curve on pricing trends and updates, businesses can make well-informed decisions when selecting the most suitable pricing model for their AI projects.\n",
      "\n",
      "## Conclusion\n",
      "\n",
      "Navigating through the diverse pricing models offered by CrewAI requires a comprehensive understanding of the benefits, features, and cost structures associated with each option. Whether opting for the flexibility of a Pay-As-You-Go model, the consistency of a Subscription plan, or the tailored solutions of Enterprise/Custom pricing, businesses can leverage CrewAI's offerings to drive innovation and efficiency in their AI projects. As the AI pricing landscape continues to evolve, staying informed and exploring the right pricing model is crucial for optimizing investments and achieving success in the realm of artificial intelligence.\n",
      "\n",
      "Remember to explore CrewAI's website for detailed pricing information, share your experiences with AI pricing models in the comments section, and download our guide on choosing the right AI pricing model for your business needs. Empower your AI journey with CrewAI's versatile pricing solutions.\u001b[00m\n",
      "\n",
      "\n",
      "\u001b[1m\u001b[95m# Agent:\u001b[00m \u001b[1m\u001b[92mEditor\u001b[00m\n",
      "\u001b[95m## Task:\u001b[00m \u001b[92mProofread the given blog post for grammatical errors and alignment with the brand's voice.\u001b[00m\n",
      "\n",
      "\n",
      "\u001b[1m\u001b[95m# Agent:\u001b[00m \u001b[1m\u001b[92mEditor\u001b[00m\n",
      "\u001b[95m## Final Answer:\u001b[00m \u001b[92m\n",
      "# Navigating CrewAI Pricing Models: Everything You Need to Know\n",
      "\n",
      "## Introduction\n",
      "\n",
      "In the rapidly changing world of artificial intelligence (AI) solutions, CrewAI emerges as a significant player, offering cutting-edge technologies to businesses in diverse sectors. Understanding the pricing models of such platforms is crucial for AI enthusiasts, business owners, and professionals seeking to utilize AI tools effectively. This article delves into the detailed realm of CrewAI pricing models, shedding light on the various options available to cater to users' diverse requirements.\n",
      "\n",
      "## Trending Pricing Models in CrewAI\n",
      "\n",
      "### Pay-As-You-Go Model\n",
      "CrewAI's Pay-As-You-Go model offers users a flexible approach to access AI services based on their usage. This model proves advantageous for businesses with fluctuating AI needs, as they are billed only for the services they use. With transparent pricing structures and no long-term commitments, the Pay-As-You-Go model ensures cost-effectiveness and scalability for users.\n",
      "\n",
      "### Subscription Model\n",
      "The Subscription Model by CrewAI provides users with a more predictable cost structure by offering different tiers with varying features and pricing. This model suits businesses seeking consistency in their AI expenses and access to an array of advanced functionalities. By selecting a subscription plan that matches their requirements, users can effectively manage their AI budgets while maximizing CrewAI's capabilities.\n",
      "\n",
      "### Enterprise/Custom Pricing\n",
      "CrewAI caters to larger businesses with specific AI needs by presenting Enterprise and Custom pricing options tailored to their unique requirements. These solutions are crafted to meet complex projects and extensive usage scenarios, providing customized support and features that address enterprise-level demands. Custom pricing factors may include deployment scale, additional services needed, and ongoing support provisions.\n",
      "\n",
      "## Key Players in the CrewAI Pricing Landscape\n",
      "\n",
      "Compared to other AI platforms, CrewAI distinguishes itself through competitive pricing strategies and transparent pricing structures. By conducting a comprehensive competitive pricing analysis, businesses can assess the cost-effectiveness of CrewAI's offerings and comprehend the market's value proposition. Additionally, customer reviews and satisfaction levels are crucial in determining the general perception of CrewAI pricing models and user experiences across various industries.\n",
      "\n",
      "## Noteworthy News and Updates\n",
      "\n",
      "Stay abreast of the latest developments in CrewAI's pricing strategies, customer feedback influencing pricing decisions, and forecasts for future pricing models. Being proactive in monitoring pricing trends and updates enables businesses to make informed choices when selecting the most appropriate pricing model for their AI projects.\n",
      "\n",
      "## Conclusion\n",
      "\n",
      "Effectively navigating the varied pricing models offered by CrewAI demands a comprehensive understanding of the benefits, features, and cost structures associated with each option. Whether opting for the flexibility of a Pay-As-You-Go model, the consistency of a Subscription plan, or the tailor-made solutions of Enterprise/Custom pricing, businesses can harness CrewAI's offerings to propel innovation and efficiency in their AI ventures. As the AI pricing landscape evolves continuously, keeping informed and evaluating the right pricing model is vital for optimizing investments and achieving success in the AI domain.\n",
      "\n",
      "Remember to explore detailed pricing information on CrewAI's website, share your insights on AI pricing models in the comments section, and access our guide on selecting the appropriate AI pricing model for your business requirements. Empower your AI endeavors with CrewAI's versatile pricing solutions.\u001b[00m\n",
      "\n",
      "\n"
     ]
    }
   ],
   "source": [
    "result = crew.kickoff(inputs={\"topic\": \"CrewAI pricing models\"}) "
   ]
  },
  {
   "cell_type": "markdown",
   "metadata": {},
   "source": [
    "- Display the results of your execution as markdown in the notebook."
   ]
  },
  {
   "cell_type": "code",
   "execution_count": 27,
   "metadata": {
    "height": 47
   },
   "outputs": [
    {
     "data": {
      "text/markdown": [
       "# Unveiling the Mystery of CrewAI Pricing Models\n",
       "\n",
       "## Introduction\n",
       "\n",
       "In the rapidly evolving landscape of artificial intelligence (AI) technology, understanding pricing models is crucial for businesses looking to leverage AI solutions effectively. One key player in the AI market offering competitive pricing models is CrewAI. By delving into the intricacies of CrewAI's pricing structures, businesses can make informed decisions on implementing AI solutions that align with their budget and goals.\n",
       "\n",
       "## Latest Trends and Key Players\n",
       "\n",
       "The tech industry is witnessing a surge in innovative AI pricing models, with key players like CrewAI at the forefront of offering cutting-edge solutions. As businesses increasingly rely on AI tools for various applications, staying abreast of the latest trends in pricing strategies is essential. CrewAI's competitive pricing models cater to the diverse needs of businesses, providing affordable AI solutions without compromising on quality.\n",
       "\n",
       "## Noteworthy News on CrewAI Pricing Models\n",
       "\n",
       "Recent updates on CrewAI's pricing structure have highlighted the company's commitment to delivering value-driven AI solutions. Customer reviews and feedback on CrewAI's pricing models have been overwhelmingly positive, underscoring the company's reputation for transparency and customer satisfaction. With new features and offerings in the pipeline, businesses can expect continued innovation from CrewAI in the realm of AI pricing models.\n",
       "\n",
       "## Target Audience Analysis\n",
       "\n",
       "For small to medium-sized businesses, marketing professionals, and entrepreneurs seeking cost-effective AI tools, understanding AI pricing models is paramount. By analyzing CrewAI's pricing options, businesses can tailor their AI strategies to meet their unique needs and budget constraints. Entrepreneurs looking to integrate AI solutions into their operations can benefit from insights into AI pricing trends and strategies for maximizing ROI.\n",
       "\n",
       "## Conclusion\n",
       "\n",
       "In conclusion, navigating the complex landscape of AI pricing models requires a comprehensive understanding of the latest trends, key players, and industry news. By exploring CrewAI's pricing models and offerings, businesses can unlock the full potential of AI technology while staying within budget constraints. As the AI market continues to evolve, staying informed on pricing strategies will be essential for businesses looking to stay competitive and drive innovation in their respective industries.\n",
       "\n",
       "## Call to Action\n",
       "\n",
       "Ready to explore CrewAI's pricing options and revolutionize your business with AI solutions? Visit CrewAI's website for more information and request a demo today. Join us for a webinar or workshop on AI pricing strategies to gain valuable insights from industry experts. For further inquiries or consultations on AI pricing models, fill out our contact form and let us help you navigate the future of AI technology."
      ],
      "text/plain": [
       "<IPython.core.display.Markdown object>"
      ]
     },
     "execution_count": 27,
     "metadata": {},
     "output_type": "execute_result"
    }
   ],
   "source": [
    "from IPython.display import Markdown\n",
    "Markdown(result)"
   ]
  },
  {
   "cell_type": "markdown",
   "metadata": {},
   "source": [
    "## Try it Yourself\n",
    "\n",
    "- Pass in a topic of your choice and see what the agents come up with!"
   ]
  },
  {
   "cell_type": "code",
   "execution_count": 26,
   "metadata": {
    "height": 62
   },
   "outputs": [],
   "source": [
    "# topic = \"YOUR TOPIC HERE\"\n",
    "# result = crew.kickoff(inputs={\"topic\": topic})"
   ]
  },
  {
   "cell_type": "code",
   "execution_count": null,
   "metadata": {
    "height": 30
   },
   "outputs": [],
   "source": [
    "Markdown(result)"
   ]
  },
  {
   "cell_type": "markdown",
   "metadata": {},
   "source": [
    "<a name='1'></a>\n",
    " ## Other Popular Models as LLM for your Agents"
   ]
  },
  {
   "cell_type": "markdown",
   "metadata": {},
   "source": [
    "#### Hugging Face (HuggingFaceHub endpoint)\n",
    "\n",
    "```Python\n",
    "from langchain_community.llms import HuggingFaceHub\n",
    "\n",
    "llm = HuggingFaceHub(\n",
    "    repo_id=\"HuggingFaceH4/zephyr-7b-beta\",\n",
    "    huggingfacehub_api_token=\"<HF_TOKEN_HERE>\",\n",
    "    task=\"text-generation\",\n",
    ")\n",
    "\n",
    "### you will pass \"llm\" to your agent function\n",
    "```"
   ]
  },
  {
   "cell_type": "markdown",
   "metadata": {},
   "source": [
    "#### Mistral API\n",
    "\n",
    "```Python\n",
    "OPENAI_API_KEY=your-mistral-api-key\n",
    "OPENAI_API_BASE=https://api.mistral.ai/v1\n",
    "OPENAI_MODEL_NAME=\"mistral-small\"\n",
    "```"
   ]
  },
  {
   "cell_type": "markdown",
   "metadata": {},
   "source": [
    "#### Cohere\n",
    "\n",
    "```Python\n",
    "from langchain_community.chat_models import ChatCohere\n",
    "# Initialize language model\n",
    "os.environ[\"COHERE_API_KEY\"] = \"your-cohere-api-key\"\n",
    "llm = ChatCohere()\n",
    "\n",
    "### you will pass \"llm\" to your agent function\n",
    "```"
   ]
  },
  {
   "cell_type": "markdown",
   "metadata": {},
   "source": [
    "### For using Llama locally with Ollama and more, checkout the crewAI documentation on [Connecting to any LLM](https://docs.crewai.com/how-to/LLM-Connections/)."
   ]
  },
  {
   "cell_type": "code",
   "execution_count": null,
   "metadata": {
    "height": 30
   },
   "outputs": [],
   "source": []
  },
  {
   "cell_type": "code",
   "execution_count": null,
   "metadata": {
    "height": 30
   },
   "outputs": [],
   "source": []
  },
  {
   "cell_type": "code",
   "execution_count": null,
   "metadata": {
    "height": 30
   },
   "outputs": [],
   "source": []
  }
 ],
 "metadata": {
  "colab": {
   "gpuType": "T4",
   "provenance": []
  },
  "kernelspec": {
   "display_name": "crewai",
   "language": "python",
   "name": "python3"
  },
  "language_info": {
   "codemirror_mode": {
    "name": "ipython",
    "version": 3
   },
   "file_extension": ".py",
   "mimetype": "text/x-python",
   "name": "python",
   "nbconvert_exporter": "python",
   "pygments_lexer": "ipython3",
   "version": "3.11.9"
  }
 },
 "nbformat": 4,
 "nbformat_minor": 4
}
