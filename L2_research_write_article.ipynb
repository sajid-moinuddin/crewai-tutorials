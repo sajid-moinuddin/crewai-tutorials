{
 "cells": [
  {
   "cell_type": "markdown",
   "metadata": {},
   "source": [
    "You can download the `requirements.txt` for this course from the workspace of this lab. `File --> Open...`"
   ]
  },
  {
   "cell_type": "markdown",
   "metadata": {},
   "source": [
    "# L2: Create Agents to Research and Write an Article\n",
    "\n",
    "In this lesson, you will be introduced to the foundational concepts of multi-agent systems and get an overview of the crewAI framework."
   ]
  },
  {
   "cell_type": "markdown",
   "metadata": {},
   "source": [
    "The libraries are already installed in the classroom. If you're running this notebook on your own machine, you can install the following:\n",
    "```Python\n",
    "!pip install crewai==0.28.8 crewai_tools==0.1.6 langchain_community==0.0.29\n",
    "```"
   ]
  },
  {
   "cell_type": "code",
   "execution_count": 14,
   "metadata": {
    "height": 174
   },
   "outputs": [
    {
     "name": "stdout",
     "output_type": "stream",
     "text": [
      "Hello world\n",
      "Python version: 3.11.9 (main, Apr 19 2024, 16:48:06) [GCC 11.2.0]\n"
     ]
    }
   ],
   "source": [
    "import sys\n",
    "\n",
    "print(\"Hello world\")\n",
    "\n",
    "print(f\"Python version: {sys.version}\")\n",
    "\n"
   ]
  },
  {
   "cell_type": "code",
   "execution_count": null,
   "metadata": {
    "height": 31
   },
   "outputs": [],
   "source": []
  },
  {
   "cell_type": "code",
   "execution_count": 15,
   "metadata": {
    "height": 64
   },
   "outputs": [],
   "source": [
    "# Warning control\n",
    "import warnings\n",
    "warnings.filterwarnings('ignore')"
   ]
  },
  {
   "cell_type": "markdown",
   "metadata": {},
   "source": [
    "- Import from the crewAI libray."
   ]
  },
  {
   "cell_type": "code",
   "execution_count": 16,
   "metadata": {
    "height": 30
   },
   "outputs": [],
   "source": [
    "from crewai import Agent, Task, Crew"
   ]
  },
  {
   "cell_type": "markdown",
   "metadata": {},
   "source": [
    "- As a LLM for your agents, you'll be using OpenAI's `gpt-3.5-turbo`.\n",
    "\n",
    "**Optional Note:** crewAI also allow other popular models to be used as a LLM for your Agents. You can see some of the examples at the [bottom of the notebook](#1)."
   ]
  },
  {
   "cell_type": "code",
   "execution_count": 17,
   "metadata": {
    "height": 113
   },
   "outputs": [],
   "source": [
    "import os\n",
    "from utils import get_openai_api_key\n",
    "\n",
    "openai_api_key = get_openai_api_key()\n",
    "os.environ[\"OPENAI_MODEL_NAME\"] = 'gpt-3.5-turbo'"
   ]
  },
  {
   "cell_type": "markdown",
   "metadata": {},
   "source": [
    "## Creating Agents\n",
    "\n",
    "- Define your Agents, and provide them a `role`, `goal` and `backstory`.\n",
    "- It has been seen that LLMs perform better when they are role playing."
   ]
  },
  {
   "cell_type": "markdown",
   "metadata": {},
   "source": [
    "### Agent: Planner\n",
    "\n",
    "**Note**: The benefit of using _multiple strings_ :\n",
    "```Python\n",
    "varname = \"line 1 of text\"\n",
    "          \"line 2 of text\"\n",
    "```\n",
    "\n",
    "versus the _triple quote docstring_:\n",
    "```Python\n",
    "varname = \"\"\"line 1 of text\n",
    "             line 2 of text\n",
    "          \"\"\"\n",
    "```\n",
    "is that it can avoid adding those whitespaces and newline characters, making it better formatted to be passed to the LLM."
   ]
  },
  {
   "cell_type": "code",
   "execution_count": 18,
   "metadata": {
    "height": 249
   },
   "outputs": [],
   "source": [
    "planner = Agent(\n",
    "    role=\"Content Planner\",\n",
    "    goal=\"Plan engaging and factually accurate content on {topic}\",\n",
    "    backstory=\"You're working on planning a blog article \"\n",
    "              \"about the topic: {topic}.\"\n",
    "              \"You collect information that helps the \"\n",
    "              \"audience learn something \"\n",
    "              \"and make informed decisions. \"\n",
    "              \"Your work is the basis for \"\n",
    "              \"the Content Writer to write an article on this topic.\",\n",
    "    allow_delegation=False,\n",
    "\tverbose=True\n",
    ")"
   ]
  },
  {
   "cell_type": "markdown",
   "metadata": {},
   "source": [
    "### Agent: Writer"
   ]
  },
  {
   "cell_type": "code",
   "execution_count": 19,
   "metadata": {
    "height": 385
   },
   "outputs": [],
   "source": [
    "writer = Agent(\n",
    "    role=\"Content Writer\",\n",
    "    goal=\"Write insightful and factually accurate \"\n",
    "         \"opinion piece about the topic: {topic}\",\n",
    "    backstory=\"You're working on a writing \"\n",
    "              \"a new opinion piece about the topic: {topic}. \"\n",
    "              \"You base your writing on the work of \"\n",
    "              \"the Content Planner, who provides an outline \"\n",
    "              \"and relevant context about the topic. \"\n",
    "              \"You follow the main objectives and \"\n",
    "              \"direction of the outline, \"\n",
    "              \"as provide by the Content Planner. \"\n",
    "              \"You also provide objective and impartial insights \"\n",
    "              \"and back them up with information \"\n",
    "              \"provide by the Content Planner. \"\n",
    "              \"You acknowledge in your opinion piece \"\n",
    "              \"when your statements are opinions \"\n",
    "              \"as opposed to objective statements.\",\n",
    "    allow_delegation=False,\n",
    "    verbose=True\n",
    ")"
   ]
  },
  {
   "cell_type": "markdown",
   "metadata": {},
   "source": [
    "### Agent: Editor"
   ]
  },
  {
   "cell_type": "code",
   "execution_count": 20,
   "metadata": {
    "height": 283
   },
   "outputs": [],
   "source": [
    "editor = Agent(\n",
    "    role=\"Editor\",\n",
    "    goal=\"Edit a given blog post to align with \"\n",
    "         \"the writing style of the organization. \",\n",
    "    backstory=\"You are an editor who receives a blog post \"\n",
    "              \"from the Content Writer. \"\n",
    "              \"Your goal is to review the blog post \"\n",
    "              \"to ensure that it follows journalistic best practices,\"\n",
    "              \"provides balanced viewpoints \"\n",
    "              \"when providing opinions or assertions, \"\n",
    "              \"and also avoids major controversial topics \"\n",
    "              \"or opinions when possible.\",\n",
    "    allow_delegation=False,\n",
    "    verbose=True\n",
    ")"
   ]
  },
  {
   "cell_type": "markdown",
   "metadata": {},
   "source": [
    "## Creating Tasks\n",
    "\n",
    "- Define your Tasks, and provide them a `description`, `expected_output` and `agent`."
   ]
  },
  {
   "cell_type": "markdown",
   "metadata": {},
   "source": [
    "### Task: Plan"
   ]
  },
  {
   "cell_type": "code",
   "execution_count": 21,
   "metadata": {
    "height": 283
   },
   "outputs": [],
   "source": [
    "plan = Task(\n",
    "    description=(\n",
    "        \"1. Prioritize the latest trends, key players, \"\n",
    "            \"and noteworthy news on {topic}.\\n\"\n",
    "        \"2. Identify the target audience, considering \"\n",
    "            \"their interests and pain points.\\n\"\n",
    "        \"3. Develop a detailed content outline including \"\n",
    "            \"an introduction, key points, and a call to action.\\n\"\n",
    "        \"4. Include SEO keywords and relevant data or sources.\"\n",
    "    ),\n",
    "    expected_output=\"A comprehensive content plan document \"\n",
    "        \"with an outline, audience analysis, \"\n",
    "        \"SEO keywords, and resources.\",\n",
    "    agent=planner,\n",
    ")"
   ]
  },
  {
   "cell_type": "markdown",
   "metadata": {},
   "source": [
    "### Task: Write"
   ]
  },
  {
   "cell_type": "code",
   "execution_count": 22,
   "metadata": {
    "height": 334
   },
   "outputs": [],
   "source": [
    "write = Task(\n",
    "    description=(\n",
    "        \"1. Use the content plan to craft a compelling \"\n",
    "            \"blog post on {topic}.\\n\"\n",
    "        \"2. Incorporate SEO keywords naturally.\\n\"\n",
    "\t\t\"3. Sections/Subtitles are properly named \"\n",
    "            \"in an engaging manner.\\n\"\n",
    "        \"4. Ensure the post is structured with an \"\n",
    "            \"engaging introduction, insightful body, \"\n",
    "            \"and a summarizing conclusion.\\n\"\n",
    "        \"5. Proofread for grammatical errors and \"\n",
    "            \"alignment with the brand's voice.\\n\"\n",
    "    ),\n",
    "    expected_output=\"A well-written blog post \"\n",
    "        \"in markdown format, ready for publication, \"\n",
    "        \"each section should have 2 or 3 paragraphs.\",\n",
    "    agent=writer,\n",
    ")"
   ]
  },
  {
   "cell_type": "markdown",
   "metadata": {},
   "source": [
    "### Task: Edit"
   ]
  },
  {
   "cell_type": "code",
   "execution_count": 23,
   "metadata": {
    "height": 181
   },
   "outputs": [],
   "source": [
    "edit = Task(\n",
    "    description=(\"Proofread the given blog post for \"\n",
    "                 \"grammatical errors and \"\n",
    "                 \"alignment with the brand's voice.\"),\n",
    "    expected_output=\"A well-written blog post in markdown format, \"\n",
    "                    \"ready for publication, \"\n",
    "                    \"each section should have 2 or 3 paragraphs.\",\n",
    "    agent=editor\n",
    ")"
   ]
  },
  {
   "cell_type": "markdown",
   "metadata": {},
   "source": [
    "## Creating the Crew\n",
    "\n",
    "- Create your crew of Agents\n",
    "- Pass the tasks to be performed by those agents.\n",
    "    - **Note**: *For this simple example*, the tasks will be performed sequentially (i.e they are dependent on each other), so the _order_ of the task in the list _matters_.\n",
    "- `verbose=2` allows you to see all the logs of the execution. "
   ]
  },
  {
   "cell_type": "code",
   "execution_count": 24,
   "metadata": {
    "height": 98
   },
   "outputs": [
    {
     "name": "stderr",
     "output_type": "stream",
     "text": [
      "2024-12-20 15:43:46,806 - 123501121893888 - __init__.py-__init__:537 - WARNING: Overriding of current TracerProvider is not allowed\n"
     ]
    }
   ],
   "source": [
    "crew = Crew(\n",
    "    agents=[planner, writer, editor],\n",
    "    tasks=[plan, write, edit],\n",
    "    verbose=2\n",
    ")"
   ]
  },
  {
   "cell_type": "markdown",
   "metadata": {},
   "source": [
    "## Running the Crew"
   ]
  },
  {
   "cell_type": "markdown",
   "metadata": {},
   "source": [
    "**Note**: LLMs can provide different outputs for they same input, so what you get might be different than what you see in the video."
   ]
  },
  {
   "cell_type": "code",
   "execution_count": 25,
   "metadata": {
    "height": 45
   },
   "outputs": [
    {
     "name": "stdout",
     "output_type": "stream",
     "text": [
      "\u001b[1m\u001b[95m [DEBUG]: == Working Agent: Content Planner\u001b[00m\n",
      "\u001b[1m\u001b[95m [INFO]: == Starting Task: 1. Prioritize the latest trends, key players, and noteworthy news on CrewAI pricing models.\n",
      "2. Identify the target audience, considering their interests and pain points.\n",
      "3. Develop a detailed content outline including an introduction, key points, and a call to action.\n",
      "4. Include SEO keywords and relevant data or sources.\u001b[00m\n",
      "\n",
      "\n",
      "\u001b[1m> Entering new CrewAgentExecutor chain...\u001b[0m\n",
      "\u001b[32;1m\u001b[1;3mI now can give a great answer\n",
      "\n",
      "Final Answer: \n",
      "\n",
      "Content Plan: CrewAI Pricing Models\n",
      "\n",
      "I. Introduction\n",
      "- Brief overview of CrewAI and its pricing models\n",
      "- Importance of understanding pricing models for businesses\n",
      "\n",
      "II. Latest Trends and Key Players\n",
      "- Latest trends in AI pricing models within the tech industry\n",
      "- Key players in the AI market offering competitive pricing models, including CrewAI\n",
      "\n",
      "III. Noteworthy News on CrewAI Pricing Models\n",
      "- Recent updates on CrewAI's pricing structure and any new features or offerings\n",
      "- Customer reviews and feedback on CrewAI's pricing models\n",
      "\n",
      "IV. Target Audience Analysis\n",
      "- Small to medium-sized businesses looking to implement AI solutions\n",
      "- Marketing professionals seeking cost-effective AI tools\n",
      "- Entrepreneurs interested in understanding AI pricing models for budgeting purposes\n",
      "\n",
      "V. SEO Keywords\n",
      "- AI pricing models\n",
      "- CrewAI pricing\n",
      "- AI pricing trends\n",
      "- AI pricing strategies\n",
      "- Affordable AI solutions\n",
      "\n",
      "VI. Resources\n",
      "- CrewAI website for pricing information\n",
      "- Industry reports on AI pricing models\n",
      "- Case studies on successful implementation of AI pricing strategies\n",
      "- Interviews with experts in AI pricing and market analysis\n",
      "\n",
      "VII. Call to Action\n",
      "- Encourage readers to explore CrewAI's pricing options and request a demo\n",
      "- Invite audience to join a webinar or workshop on AI pricing strategies\n",
      "- Provide a contact form for further inquiries or consultations \n",
      "\n",
      "By following this content plan, the article on CrewAI pricing models will provide a comprehensive overview of the latest trends, key players, and noteworthy news in the industry. The target audience analysis will ensure that the content is tailored to the interests and pain points of the readers, while the inclusion of SEO keywords will enhance the visibility of the article online. The resources provided will support the information presented in the article, and the call to action will prompt readers to take the next steps in exploring CrewAI's pricing models.\u001b[0m\n",
      "\n",
      "\u001b[1m> Finished chain.\u001b[0m\n",
      "\u001b[1m\u001b[92m [DEBUG]: == [Content Planner] Task output: Content Plan: CrewAI Pricing Models\n",
      "\n",
      "I. Introduction\n",
      "- Brief overview of CrewAI and its pricing models\n",
      "- Importance of understanding pricing models for businesses\n",
      "\n",
      "II. Latest Trends and Key Players\n",
      "- Latest trends in AI pricing models within the tech industry\n",
      "- Key players in the AI market offering competitive pricing models, including CrewAI\n",
      "\n",
      "III. Noteworthy News on CrewAI Pricing Models\n",
      "- Recent updates on CrewAI's pricing structure and any new features or offerings\n",
      "- Customer reviews and feedback on CrewAI's pricing models\n",
      "\n",
      "IV. Target Audience Analysis\n",
      "- Small to medium-sized businesses looking to implement AI solutions\n",
      "- Marketing professionals seeking cost-effective AI tools\n",
      "- Entrepreneurs interested in understanding AI pricing models for budgeting purposes\n",
      "\n",
      "V. SEO Keywords\n",
      "- AI pricing models\n",
      "- CrewAI pricing\n",
      "- AI pricing trends\n",
      "- AI pricing strategies\n",
      "- Affordable AI solutions\n",
      "\n",
      "VI. Resources\n",
      "- CrewAI website for pricing information\n",
      "- Industry reports on AI pricing models\n",
      "- Case studies on successful implementation of AI pricing strategies\n",
      "- Interviews with experts in AI pricing and market analysis\n",
      "\n",
      "VII. Call to Action\n",
      "- Encourage readers to explore CrewAI's pricing options and request a demo\n",
      "- Invite audience to join a webinar or workshop on AI pricing strategies\n",
      "- Provide a contact form for further inquiries or consultations \n",
      "\n",
      "By following this content plan, the article on CrewAI pricing models will provide a comprehensive overview of the latest trends, key players, and noteworthy news in the industry. The target audience analysis will ensure that the content is tailored to the interests and pain points of the readers, while the inclusion of SEO keywords will enhance the visibility of the article online. The resources provided will support the information presented in the article, and the call to action will prompt readers to take the next steps in exploring CrewAI's pricing models.\n",
      "\n",
      "\u001b[00m\n",
      "\u001b[1m\u001b[95m [DEBUG]: == Working Agent: Content Writer\u001b[00m\n",
      "\u001b[1m\u001b[95m [INFO]: == Starting Task: 1. Use the content plan to craft a compelling blog post on CrewAI pricing models.\n",
      "2. Incorporate SEO keywords naturally.\n",
      "3. Sections/Subtitles are properly named in an engaging manner.\n",
      "4. Ensure the post is structured with an engaging introduction, insightful body, and a summarizing conclusion.\n",
      "5. Proofread for grammatical errors and alignment with the brand's voice.\n",
      "\u001b[00m\n",
      "\n",
      "\n",
      "\u001b[1m> Entering new CrewAgentExecutor chain...\u001b[0m\n",
      "\u001b[32;1m\u001b[1;3mI now have a clear understanding of the content plan provided and can craft a compelling blog post on CrewAI pricing models. By incorporating SEO keywords naturally and structuring the post with engaging sections, I can effectively communicate the latest trends, key players, and noteworthy news in the industry. My goal is to provide valuable insights for small to medium-sized businesses, marketing professionals, and entrepreneurs interested in AI pricing models.\n",
      "\n",
      "Final Answer: \n",
      "\n",
      "# Unveiling the Mystery of CrewAI Pricing Models\n",
      "\n",
      "## Introduction\n",
      "\n",
      "In the rapidly evolving landscape of artificial intelligence (AI) technology, understanding pricing models is crucial for businesses looking to leverage AI solutions effectively. One key player in the AI market offering competitive pricing models is CrewAI. By delving into the intricacies of CrewAI's pricing structures, businesses can make informed decisions on implementing AI solutions that align with their budget and goals.\n",
      "\n",
      "## Latest Trends and Key Players\n",
      "\n",
      "The tech industry is witnessing a surge in innovative AI pricing models, with key players like CrewAI at the forefront of offering cutting-edge solutions. As businesses increasingly rely on AI tools for various applications, staying abreast of the latest trends in pricing strategies is essential. CrewAI's competitive pricing models cater to the diverse needs of businesses, providing affordable AI solutions without compromising on quality.\n",
      "\n",
      "## Noteworthy News on CrewAI Pricing Models\n",
      "\n",
      "Recent updates on CrewAI's pricing structure have highlighted the company's commitment to delivering value-driven AI solutions. Customer reviews and feedback on CrewAI's pricing models have been overwhelmingly positive, underscoring the company's reputation for transparency and customer satisfaction. With new features and offerings in the pipeline, businesses can expect continued innovation from CrewAI in the realm of AI pricing models.\n",
      "\n",
      "## Target Audience Analysis\n",
      "\n",
      "For small to medium-sized businesses, marketing professionals, and entrepreneurs seeking cost-effective AI tools, understanding AI pricing models is paramount. By analyzing CrewAI's pricing options, businesses can tailor their AI strategies to meet their unique needs and budget constraints. Entrepreneurs looking to integrate AI solutions into their operations can benefit from insights into AI pricing trends and strategies for maximizing ROI.\n",
      "\n",
      "## Conclusion\n",
      "\n",
      "In conclusion, navigating the complex landscape of AI pricing models requires a comprehensive understanding of the latest trends, key players, and industry news. By exploring CrewAI's pricing models and offerings, businesses can unlock the full potential of AI technology while staying within budget constraints. As the AI market continues to evolve, staying informed on pricing strategies will be essential for businesses looking to stay competitive and drive innovation in their respective industries.\n",
      "\n",
      "## Call to Action\n",
      "\n",
      "Ready to explore CrewAI's pricing options and revolutionize your business with AI solutions? Visit CrewAI's website for more information and request a demo today. Join us for a webinar or workshop on AI pricing strategies to gain valuable insights from industry experts. For further inquiries or consultations on AI pricing models, fill out our contact form and let us help you navigate the future of AI technology.\u001b[0m\n",
      "\n",
      "\u001b[1m> Finished chain.\u001b[0m\n",
      "\u001b[1m\u001b[92m [DEBUG]: == [Content Writer] Task output: # Unveiling the Mystery of CrewAI Pricing Models\n",
      "\n",
      "## Introduction\n",
      "\n",
      "In the rapidly evolving landscape of artificial intelligence (AI) technology, understanding pricing models is crucial for businesses looking to leverage AI solutions effectively. One key player in the AI market offering competitive pricing models is CrewAI. By delving into the intricacies of CrewAI's pricing structures, businesses can make informed decisions on implementing AI solutions that align with their budget and goals.\n",
      "\n",
      "## Latest Trends and Key Players\n",
      "\n",
      "The tech industry is witnessing a surge in innovative AI pricing models, with key players like CrewAI at the forefront of offering cutting-edge solutions. As businesses increasingly rely on AI tools for various applications, staying abreast of the latest trends in pricing strategies is essential. CrewAI's competitive pricing models cater to the diverse needs of businesses, providing affordable AI solutions without compromising on quality.\n",
      "\n",
      "## Noteworthy News on CrewAI Pricing Models\n",
      "\n",
      "Recent updates on CrewAI's pricing structure have highlighted the company's commitment to delivering value-driven AI solutions. Customer reviews and feedback on CrewAI's pricing models have been overwhelmingly positive, underscoring the company's reputation for transparency and customer satisfaction. With new features and offerings in the pipeline, businesses can expect continued innovation from CrewAI in the realm of AI pricing models.\n",
      "\n",
      "## Target Audience Analysis\n",
      "\n",
      "For small to medium-sized businesses, marketing professionals, and entrepreneurs seeking cost-effective AI tools, understanding AI pricing models is paramount. By analyzing CrewAI's pricing options, businesses can tailor their AI strategies to meet their unique needs and budget constraints. Entrepreneurs looking to integrate AI solutions into their operations can benefit from insights into AI pricing trends and strategies for maximizing ROI.\n",
      "\n",
      "## Conclusion\n",
      "\n",
      "In conclusion, navigating the complex landscape of AI pricing models requires a comprehensive understanding of the latest trends, key players, and industry news. By exploring CrewAI's pricing models and offerings, businesses can unlock the full potential of AI technology while staying within budget constraints. As the AI market continues to evolve, staying informed on pricing strategies will be essential for businesses looking to stay competitive and drive innovation in their respective industries.\n",
      "\n",
      "## Call to Action\n",
      "\n",
      "Ready to explore CrewAI's pricing options and revolutionize your business with AI solutions? Visit CrewAI's website for more information and request a demo today. Join us for a webinar or workshop on AI pricing strategies to gain valuable insights from industry experts. For further inquiries or consultations on AI pricing models, fill out our contact form and let us help you navigate the future of AI technology.\n",
      "\n",
      "\u001b[00m\n",
      "\u001b[1m\u001b[95m [DEBUG]: == Working Agent: Editor\u001b[00m\n",
      "\u001b[1m\u001b[95m [INFO]: == Starting Task: Proofread the given blog post for grammatical errors and alignment with the brand's voice.\u001b[00m\n",
      "\n",
      "\n",
      "\u001b[1m> Entering new CrewAgentExecutor chain...\u001b[0m\n",
      "\u001b[32;1m\u001b[1;3mI now can give a great answer\n",
      "\n",
      "Final Answer: \n",
      "\n",
      "# Unveiling the Mystery of CrewAI Pricing Models\n",
      "\n",
      "## Introduction\n",
      "\n",
      "In the rapidly evolving landscape of artificial intelligence (AI) technology, understanding pricing models is crucial for businesses looking to leverage AI solutions effectively. One key player in the AI market offering competitive pricing models is CrewAI. By delving into the intricacies of CrewAI's pricing structures, businesses can make informed decisions on implementing AI solutions that align with their budget and goals.\n",
      "\n",
      "## Latest Trends and Key Players\n",
      "\n",
      "The tech industry is witnessing a surge in innovative AI pricing models, with key players like CrewAI at the forefront of offering cutting-edge solutions. As businesses increasingly rely on AI tools for various applications, staying abreast of the latest trends in pricing strategies is essential. CrewAI's competitive pricing models cater to the diverse needs of businesses, providing affordable AI solutions without compromising on quality.\n",
      "\n",
      "## Noteworthy News on CrewAI Pricing Models\n",
      "\n",
      "Recent updates on CrewAI's pricing structure have highlighted the company's commitment to delivering value-driven AI solutions. Customer reviews and feedback on CrewAI's pricing models have been overwhelmingly positive, underscoring the company's reputation for transparency and customer satisfaction. With new features and offerings in the pipeline, businesses can expect continued innovation from CrewAI in the realm of AI pricing models.\n",
      "\n",
      "## Target Audience Analysis\n",
      "\n",
      "For small to medium-sized businesses, marketing professionals, and entrepreneurs seeking cost-effective AI tools, understanding AI pricing models is paramount. By analyzing CrewAI's pricing options, businesses can tailor their AI strategies to meet their unique needs and budget constraints. Entrepreneurs looking to integrate AI solutions into their operations can benefit from insights into AI pricing trends and strategies for maximizing ROI.\n",
      "\n",
      "## Conclusion\n",
      "\n",
      "In conclusion, navigating the complex landscape of AI pricing models requires a comprehensive understanding of the latest trends, key players, and industry news. By exploring CrewAI's pricing models and offerings, businesses can unlock the full potential of AI technology while staying within budget constraints. As the AI market continues to evolve, staying informed on pricing strategies will be essential for businesses looking to stay competitive and drive innovation in their respective industries.\n",
      "\n",
      "## Call to Action\n",
      "\n",
      "Ready to explore CrewAI's pricing options and revolutionize your business with AI solutions? Visit CrewAI's website for more information and request a demo today. Join us for a webinar or workshop on AI pricing strategies to gain valuable insights from industry experts. For further inquiries or consultations on AI pricing models, fill out our contact form and let us help you navigate the future of AI technology.\u001b[0m\n",
      "\n",
      "\u001b[1m> Finished chain.\u001b[0m\n",
      "\u001b[1m\u001b[92m [DEBUG]: == [Editor] Task output: # Unveiling the Mystery of CrewAI Pricing Models\n",
      "\n",
      "## Introduction\n",
      "\n",
      "In the rapidly evolving landscape of artificial intelligence (AI) technology, understanding pricing models is crucial for businesses looking to leverage AI solutions effectively. One key player in the AI market offering competitive pricing models is CrewAI. By delving into the intricacies of CrewAI's pricing structures, businesses can make informed decisions on implementing AI solutions that align with their budget and goals.\n",
      "\n",
      "## Latest Trends and Key Players\n",
      "\n",
      "The tech industry is witnessing a surge in innovative AI pricing models, with key players like CrewAI at the forefront of offering cutting-edge solutions. As businesses increasingly rely on AI tools for various applications, staying abreast of the latest trends in pricing strategies is essential. CrewAI's competitive pricing models cater to the diverse needs of businesses, providing affordable AI solutions without compromising on quality.\n",
      "\n",
      "## Noteworthy News on CrewAI Pricing Models\n",
      "\n",
      "Recent updates on CrewAI's pricing structure have highlighted the company's commitment to delivering value-driven AI solutions. Customer reviews and feedback on CrewAI's pricing models have been overwhelmingly positive, underscoring the company's reputation for transparency and customer satisfaction. With new features and offerings in the pipeline, businesses can expect continued innovation from CrewAI in the realm of AI pricing models.\n",
      "\n",
      "## Target Audience Analysis\n",
      "\n",
      "For small to medium-sized businesses, marketing professionals, and entrepreneurs seeking cost-effective AI tools, understanding AI pricing models is paramount. By analyzing CrewAI's pricing options, businesses can tailor their AI strategies to meet their unique needs and budget constraints. Entrepreneurs looking to integrate AI solutions into their operations can benefit from insights into AI pricing trends and strategies for maximizing ROI.\n",
      "\n",
      "## Conclusion\n",
      "\n",
      "In conclusion, navigating the complex landscape of AI pricing models requires a comprehensive understanding of the latest trends, key players, and industry news. By exploring CrewAI's pricing models and offerings, businesses can unlock the full potential of AI technology while staying within budget constraints. As the AI market continues to evolve, staying informed on pricing strategies will be essential for businesses looking to stay competitive and drive innovation in their respective industries.\n",
      "\n",
      "## Call to Action\n",
      "\n",
      "Ready to explore CrewAI's pricing options and revolutionize your business with AI solutions? Visit CrewAI's website for more information and request a demo today. Join us for a webinar or workshop on AI pricing strategies to gain valuable insights from industry experts. For further inquiries or consultations on AI pricing models, fill out our contact form and let us help you navigate the future of AI technology.\n",
      "\n",
      "\u001b[00m\n"
     ]
    }
   ],
   "source": [
    "result = crew.kickoff(inputs={\"topic\": \"CrewAI pricing models\"}) "
   ]
  },
  {
   "cell_type": "markdown",
   "metadata": {},
   "source": [
    "- Display the results of your execution as markdown in the notebook."
   ]
  },
  {
   "cell_type": "code",
   "execution_count": 27,
   "metadata": {
    "height": 47
   },
   "outputs": [
    {
     "data": {
      "text/markdown": [
       "# Unveiling the Mystery of CrewAI Pricing Models\n",
       "\n",
       "## Introduction\n",
       "\n",
       "In the rapidly evolving landscape of artificial intelligence (AI) technology, understanding pricing models is crucial for businesses looking to leverage AI solutions effectively. One key player in the AI market offering competitive pricing models is CrewAI. By delving into the intricacies of CrewAI's pricing structures, businesses can make informed decisions on implementing AI solutions that align with their budget and goals.\n",
       "\n",
       "## Latest Trends and Key Players\n",
       "\n",
       "The tech industry is witnessing a surge in innovative AI pricing models, with key players like CrewAI at the forefront of offering cutting-edge solutions. As businesses increasingly rely on AI tools for various applications, staying abreast of the latest trends in pricing strategies is essential. CrewAI's competitive pricing models cater to the diverse needs of businesses, providing affordable AI solutions without compromising on quality.\n",
       "\n",
       "## Noteworthy News on CrewAI Pricing Models\n",
       "\n",
       "Recent updates on CrewAI's pricing structure have highlighted the company's commitment to delivering value-driven AI solutions. Customer reviews and feedback on CrewAI's pricing models have been overwhelmingly positive, underscoring the company's reputation for transparency and customer satisfaction. With new features and offerings in the pipeline, businesses can expect continued innovation from CrewAI in the realm of AI pricing models.\n",
       "\n",
       "## Target Audience Analysis\n",
       "\n",
       "For small to medium-sized businesses, marketing professionals, and entrepreneurs seeking cost-effective AI tools, understanding AI pricing models is paramount. By analyzing CrewAI's pricing options, businesses can tailor their AI strategies to meet their unique needs and budget constraints. Entrepreneurs looking to integrate AI solutions into their operations can benefit from insights into AI pricing trends and strategies for maximizing ROI.\n",
       "\n",
       "## Conclusion\n",
       "\n",
       "In conclusion, navigating the complex landscape of AI pricing models requires a comprehensive understanding of the latest trends, key players, and industry news. By exploring CrewAI's pricing models and offerings, businesses can unlock the full potential of AI technology while staying within budget constraints. As the AI market continues to evolve, staying informed on pricing strategies will be essential for businesses looking to stay competitive and drive innovation in their respective industries.\n",
       "\n",
       "## Call to Action\n",
       "\n",
       "Ready to explore CrewAI's pricing options and revolutionize your business with AI solutions? Visit CrewAI's website for more information and request a demo today. Join us for a webinar or workshop on AI pricing strategies to gain valuable insights from industry experts. For further inquiries or consultations on AI pricing models, fill out our contact form and let us help you navigate the future of AI technology."
      ],
      "text/plain": [
       "<IPython.core.display.Markdown object>"
      ]
     },
     "execution_count": 27,
     "metadata": {},
     "output_type": "execute_result"
    }
   ],
   "source": [
    "from IPython.display import Markdown\n",
    "Markdown(result)"
   ]
  },
  {
   "cell_type": "markdown",
   "metadata": {},
   "source": [
    "## Try it Yourself\n",
    "\n",
    "- Pass in a topic of your choice and see what the agents come up with!"
   ]
  },
  {
   "cell_type": "code",
   "execution_count": 26,
   "metadata": {
    "height": 62
   },
   "outputs": [],
   "source": [
    "# topic = \"YOUR TOPIC HERE\"\n",
    "# result = crew.kickoff(inputs={\"topic\": topic})"
   ]
  },
  {
   "cell_type": "code",
   "execution_count": null,
   "metadata": {
    "height": 30
   },
   "outputs": [],
   "source": [
    "Markdown(result)"
   ]
  },
  {
   "cell_type": "markdown",
   "metadata": {},
   "source": [
    "<a name='1'></a>\n",
    " ## Other Popular Models as LLM for your Agents"
   ]
  },
  {
   "cell_type": "markdown",
   "metadata": {},
   "source": [
    "#### Hugging Face (HuggingFaceHub endpoint)\n",
    "\n",
    "```Python\n",
    "from langchain_community.llms import HuggingFaceHub\n",
    "\n",
    "llm = HuggingFaceHub(\n",
    "    repo_id=\"HuggingFaceH4/zephyr-7b-beta\",\n",
    "    huggingfacehub_api_token=\"<HF_TOKEN_HERE>\",\n",
    "    task=\"text-generation\",\n",
    ")\n",
    "\n",
    "### you will pass \"llm\" to your agent function\n",
    "```"
   ]
  },
  {
   "cell_type": "markdown",
   "metadata": {},
   "source": [
    "#### Mistral API\n",
    "\n",
    "```Python\n",
    "OPENAI_API_KEY=your-mistral-api-key\n",
    "OPENAI_API_BASE=https://api.mistral.ai/v1\n",
    "OPENAI_MODEL_NAME=\"mistral-small\"\n",
    "```"
   ]
  },
  {
   "cell_type": "markdown",
   "metadata": {},
   "source": [
    "#### Cohere\n",
    "\n",
    "```Python\n",
    "from langchain_community.chat_models import ChatCohere\n",
    "# Initialize language model\n",
    "os.environ[\"COHERE_API_KEY\"] = \"your-cohere-api-key\"\n",
    "llm = ChatCohere()\n",
    "\n",
    "### you will pass \"llm\" to your agent function\n",
    "```"
   ]
  },
  {
   "cell_type": "markdown",
   "metadata": {},
   "source": [
    "### For using Llama locally with Ollama and more, checkout the crewAI documentation on [Connecting to any LLM](https://docs.crewai.com/how-to/LLM-Connections/)."
   ]
  },
  {
   "cell_type": "code",
   "execution_count": null,
   "metadata": {
    "height": 30
   },
   "outputs": [],
   "source": []
  },
  {
   "cell_type": "code",
   "execution_count": null,
   "metadata": {
    "height": 30
   },
   "outputs": [],
   "source": []
  },
  {
   "cell_type": "code",
   "execution_count": null,
   "metadata": {
    "height": 30
   },
   "outputs": [],
   "source": []
  }
 ],
 "metadata": {
  "colab": {
   "gpuType": "T4",
   "provenance": []
  },
  "kernelspec": {
   "display_name": "crewai",
   "language": "python",
   "name": "python3"
  },
  "language_info": {
   "codemirror_mode": {
    "name": "ipython",
    "version": 3
   },
   "file_extension": ".py",
   "mimetype": "text/x-python",
   "name": "python",
   "nbconvert_exporter": "python",
   "pygments_lexer": "ipython3",
   "version": "3.11.9"
  }
 },
 "nbformat": 4,
 "nbformat_minor": 4
}
